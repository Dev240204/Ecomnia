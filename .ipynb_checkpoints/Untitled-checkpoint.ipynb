{
 "cells": [
  {
   "cell_type": "code",
   "execution_count": 1,
   "id": "6698d17b-c107-4810-afb5-c603faee75f4",
   "metadata": {},
   "outputs": [],
   "source": [
    "import pandas as pd\n",
    "import seaborn as sns\n",
    "import matplotlib.pyplot as plt"
   ]
  },
  {
   "cell_type": "code",
   "execution_count": 2,
   "id": "012478be-f575-4c61-b84a-1d220d1b1ea0",
   "metadata": {},
   "outputs": [],
   "source": [
    "df = pd.read_csv(\"static/flipkart3.csv\")"
   ]
  },
  {
   "cell_type": "code",
   "execution_count": 5,
   "id": "d9b25c43-8b4d-4351-810e-21ac3d78d240",
   "metadata": {},
   "outputs": [
    {
     "name": "stdout",
     "output_type": "stream",
     "text": [
      "<class 'pandas.core.frame.DataFrame'>\n",
      "RangeIndex: 368 entries, 0 to 367\n",
      "Data columns (total 10 columns):\n",
      " #   Column            Non-Null Count  Dtype  \n",
      "---  ------            --------------  -----  \n",
      " 0   Product_Names     368 non-null    object \n",
      " 1   Original_price    368 non-null    object \n",
      " 2   Discounted_price  368 non-null    object \n",
      " 3   Description       368 non-null    object \n",
      " 4   Ratings           368 non-null    float64\n",
      " 5   Image_links       368 non-null    object \n",
      " 6   URL               368 non-null    object \n",
      " 7   Ram               368 non-null    object \n",
      " 8   brand             368 non-null    object \n",
      " 9   Color             368 non-null    object \n",
      "dtypes: float64(1), object(9)\n",
      "memory usage: 28.9+ KB\n"
     ]
    }
   ],
   "source": [
    "df.head()\n",
    "df.info()"
   ]
  },
  {
   "cell_type": "code",
   "execution_count": 17,
   "id": "0abf7654-057c-4aa8-8e29-5072778ff2df",
   "metadata": {},
   "outputs": [
    {
     "name": "stdout",
     "output_type": "stream",
     "text": [
      "[14999, 14999, 56999, 57999, 56999, 57999, 63999, 18499, 63999, 5999, 18499, 19499, 14999, 14999, 14999, 14999, 19499, 13999, 19499, 13999, 15999, 15999, 13999, 5499, 12490, 5999, 22999, 26999, 32999, 12490, 12490, 13999, 18499, 7799, 9999, 9999, 10999, 18999, 10999, 21655, 21888, 6499, 22999, 19553, 6699, 6699, 6699, 6799, 8299, 8299, 8299, 23999, 24999, 24999, 8499, 13999, 7499, 6799, 29999, 24999, 66999, 6499, 26999, 40999, 16999, 11999, 14699, 35999, 10499, 45999, 40999, 6299, 8999, 10199, 13076, 10999, 6371, 15780, 24999, 24999, 5999, 21904, 21999, 5799, 40999, 29999, 29999, 79900, 18999, 8999, 8657, 999, 16499, 45999, 9199, 40999, 45999, 27999, 7499, 699, 8499, 45999, 13999, 1075, 7499, 13999, 13999, 9999, 6799, 8485, 7648, 7623, 6740, 12499, 36999, 36999, 36999, 6780, 13882, 42999, 8499, 34999, 79900, 8349, 26999, 9199, 32999, 18999, 39999, 10999, 10249, 1150, 19918, 39999, 16713, 39999, 31999, 5799, 10199, 56999, 10448, 7499, 39999, 39999, 18999, 34999, 9999, 23999, 12999, 10990, 1461, 1140, 1299, 2171, 1390, 7410, 7562, 895, 1799, 34999, 8592, 49999, 17999, 975, 63999, 10199, 23999, 49999, 25999, 8999, 21999, 1349, 36999, 975, 2149, 30999, 39999, 17999, 950, 63999, 1927, 7699, 18999, 9489, 6676, 79900, 30800, 12187, 18999, 18999, 34999, 63999, 1429, 51999, 12241, 1180, 26999, 40999, 925, 89900, 17999, 7314, 5999, 8999, 144900, 8999, 8999, 11999, 947, 13999, 18499, 16999, 36999, 1299, 15499, 969, 4599, 1249, 616, 829, 1749, 12400, 30999, 897, 1699, 40999, 14435, 54999, 27770, 22999, 51999, 30589, 89900, 8499, 11499, 30999, 38999, 38999, 11999, 99900, 21999, 19197, 8499, 998, 9798, 32999, 99900, 1849, 54999, 1023, 2149, 9460, 58749, 13999, 13999, 11670, 7999, 38999, 1799, 15499, 1349, 89900, 2328, 18999, 897, 18999, 16999, 36530, 8235, 21999, 11499, 699, 33999, 11390, 9277, 13990, 40999, 15999, 9999, 9999, 1343, 1377, 1839, 749, 1198, 11964, 1485, 6174, 9999, 1199, 5635, 12999, 836, 1099, 7499, 1397, 11200, 1319, 1298, 1370, 1448, 89900, 1255, 12969, 2490, 1198, 30990, 79999, 15999, 9999, 27990, 1098, 18995, 969, 14490, 1848, 19999, 6249, 7055, 925, 975, 8690, 40999, 7485, 7885, 1098, 944, 1099, 13499, 6998, 22999, 12990, 35999, 9570, 11910, 1499, 1099, 11499, 1049, 20465, 7960, 11999, 179900, 899, 649, 3299, 16490, 1465, 11960, 12490, 1126, 1439, 1299, 13499, 25990, 729, 6250, 25999, 9999, 609, 99999, 99999, 7785, 9499, 119900, 14999, 649, 600]\n"
     ]
    }
   ],
   "source": [
    "Org_price = []\n",
    "for price in df['Discounted_price']:\n",
    "    Org_price.append(int(price.replace(\",\",\"\")))\n",
    "\n",
    "print(Org_price)\n",
    "df['Discounted_price'] = Org_price"
   ]
  },
  {
   "cell_type": "code",
   "execution_count": 19,
   "id": "b9d550d0-f07e-485e-9224-5851e1c2eb2a",
   "metadata": {},
   "outputs": [
    {
     "data": {
      "text/plain": [
       "0      23999\n",
       "1      23999\n",
       "2      69900\n",
       "3      69900\n",
       "4      69900\n",
       "       ...  \n",
       "363    25999\n",
       "364     1999\n",
       "365    28999\n",
       "366     1999\n",
       "367    20999\n",
       "Name: Original_price, Length: 368, dtype: int64"
      ]
     },
     "execution_count": 19,
     "metadata": {},
     "output_type": "execute_result"
    }
   ],
   "source": [
    "df['Original_price']\n"
   ]
  },
  {
   "cell_type": "code",
   "execution_count": 20,
   "id": "ba608a89-0978-4f0a-9402-40217c856b72",
   "metadata": {},
   "outputs": [
    {
     "data": {
      "text/plain": [
       "0       14999\n",
       "1       14999\n",
       "2       56999\n",
       "3       57999\n",
       "4       56999\n",
       "        ...  \n",
       "363      9499\n",
       "364    119900\n",
       "365     14999\n",
       "366       649\n",
       "367       600\n",
       "Name: Discounted_price, Length: 368, dtype: int64"
      ]
     },
     "execution_count": 20,
     "metadata": {},
     "output_type": "execute_result"
    }
   ],
   "source": [
    "df[\"Discounted_price\"]"
   ]
  },
  {
   "cell_type": "code",
   "execution_count": 21,
   "id": "cfc1954f-0c1b-4abe-a244-874a294559b7",
   "metadata": {},
   "outputs": [],
   "source": [
    "df[\"Dicount\"] = df[\"Discounted_price\"] - df[\"Original_price\"]"
   ]
  },
  {
   "cell_type": "code",
   "execution_count": 23,
   "id": "61a2c2af-3fb6-4da8-af2b-79d9c9427fd1",
   "metadata": {},
   "outputs": [
    {
     "data": {
      "text/plain": [
       "368"
      ]
     },
     "execution_count": 23,
     "metadata": {},
     "output_type": "execute_result"
    }
   ],
   "source": [
    "df[\"Discounted_price\"].count()"
   ]
  },
  {
   "cell_type": "code",
   "execution_count": 24,
   "id": "2295ff95-ffd3-4b0f-82c5-0b3295749c14",
   "metadata": {},
   "outputs": [
    {
     "data": {
      "text/plain": [
       "368"
      ]
     },
     "execution_count": 24,
     "metadata": {},
     "output_type": "execute_result"
    }
   ],
   "source": [
    "df[\"Original_price\"].count()"
   ]
  },
  {
   "cell_type": "code",
   "execution_count": null,
   "id": "b1d487bc-52b0-4cb5-9c32-944a8b33031e",
   "metadata": {},
   "outputs": [],
   "source": [
    "Discount = []\n",
    "for i in range(0,368):\n",
    "    discount = df[\"Original_price\"][i] - df[\"Discounted_price\"][i]\n",
    "    Discount.append(discount)"
   ]
  }
 ],
 "metadata": {
  "kernelspec": {
   "display_name": "Python 3 (ipykernel)",
   "language": "python",
   "name": "python3"
  },
  "language_info": {
   "codemirror_mode": {
    "name": "ipython",
    "version": 3
   },
   "file_extension": ".py",
   "mimetype": "text/x-python",
   "name": "python",
   "nbconvert_exporter": "python",
   "pygments_lexer": "ipython3",
   "version": "3.10.5"
  }
 },
 "nbformat": 4,
 "nbformat_minor": 5
}
